{
 "cells": [
  {
   "cell_type": "markdown",
   "metadata": {},
   "source": [
    "Proyecto Final\n",
    "Este es un conjunto de datos públicos de comercio electrónico brasileño de pedidos realizados en Olist Store. \n",
    "El conjunto de datos tiene información de 100.000 pedidos de 2016,2017,2018 y 2020 realizados en varios mercados de Brasil."
   ]
  },
  {
   "cell_type": "code",
   "execution_count": 1,
   "metadata": {},
   "outputs": [],
   "source": [
    "import pandas as pd\n",
    "import numpy as np\n",
    "import matplotlib.pyplot as plt"
   ]
  },
  {
   "cell_type": "code",
   "execution_count": 2,
   "metadata": {},
   "outputs": [
    {
     "name": "stdout",
     "output_type": "stream",
     "text": [
      "                        customer_id                customer_unique_id  \\\n",
      "0  06b8999e2fba1a1fbc88172c00ba8bc7  861eff4711a542e4b93843c6dd7febb0   \n",
      "1  18955e83d337fd6b2def6b18a428ac77  290c77bc529b7ac935b93aa66c333dc3   \n",
      "2  4e7b3e00288586ebd08712fdd0374a03  060e732b5b29e8181a18229c7b0b2b5e   \n",
      "3  b2b6027bc5c5109e529d4dc6358b12c3  259dac757896d24d7702b9acbbff3f3c   \n",
      "4  4f2d8ab171c80ec8364f7c12e35b23ad  345ecd01c38d18a9036ed96c73b8d066   \n",
      "\n",
      "   customer_zip_code_prefix          customer_city customer_state  \n",
      "0                     14409                 franca             SP  \n",
      "1                      9790  sao bernardo do campo             SP  \n",
      "2                      1151              sao paulo             SP  \n",
      "3                      8775        mogi das cruzes             SP  \n",
      "4                     13056               campinas             SP  \n",
      "                           order_id  order_item_id  \\\n",
      "0  00010242fe8c5a6d1ba2dd792cb16214              1   \n",
      "1  00018f77f2f0320c557190d7a144bdd3              1   \n",
      "2  000229ec398224ef6ca0657da4fc703e              1   \n",
      "3  00024acbcdf0a6daa1e931b038114c75              1   \n",
      "4  00042b26cf59d7ce69dfabb4e55b4fd9              1   \n",
      "\n",
      "                         product_id                         seller_id  \\\n",
      "0  4244733e06e7ecb4970a6e2683c13e61  48436dade18ac8b2bce089ec2a041202   \n",
      "1  e5f2d52b802189ee658865ca93d83a8f  dd7ddc04e1b6c2c614352b383efe2d36   \n",
      "2  c777355d18b72b67abbeef9df44fd0fd  5b51032eddd242adc84c38acab88f23d   \n",
      "3  7634da152a4610f1595efa32f14722fc  9d7a1d34a5052409006425275ba1c2b4   \n",
      "4  ac6c3623068f30de03045865e4e10089  df560393f3a51e74553ab94004ba5c87   \n",
      "\n",
      "   shipping_limit_date   price  freight_value  \n",
      "0  2017-09-19 09:45:35   58.90          13.29  \n",
      "1  2017-05-03 11:05:13  239.90          19.93  \n",
      "2  2018-01-18 14:48:30  199.00          17.87  \n",
      "3  2018-08-15 10:10:18   12.99          12.79  \n",
      "4  2017-02-13 13:57:51  199.90          18.14  \n",
      "                         product_id  product_category_name  \\\n",
      "0  1e9e8ef04dbcff4541ed26657ea517e5             perfumaria   \n",
      "1  3aa071139cb16b67ca9e5dea641aaa2f                  artes   \n",
      "2  96bd76ec8810374ed1b65e291975717f          esporte_lazer   \n",
      "3  cef67bcfe19066a932b7673e239eb23d                  bebes   \n",
      "4  9dc1a7de274444849c219cff195d0b71  utilidades_domesticas   \n",
      "\n",
      "   product_name_lenght  product_description_lenght  product_photos_qty  \\\n",
      "0                 40.0                       287.0                 1.0   \n",
      "1                 44.0                       276.0                 1.0   \n",
      "2                 46.0                       250.0                 1.0   \n",
      "3                 27.0                       261.0                 1.0   \n",
      "4                 37.0                       402.0                 4.0   \n",
      "\n",
      "   product_weight_g  product_length_cm  product_height_cm  product_width_cm  \n",
      "0             225.0               16.0               10.0              14.0  \n",
      "1            1000.0               30.0               18.0              20.0  \n",
      "2             154.0               18.0                9.0              15.0  \n",
      "3             371.0               26.0                4.0              26.0  \n",
      "4             625.0               20.0               17.0              13.0  \n",
      "                           order_id  payment_sequential payment_type  \\\n",
      "0  b81ef226f3fe1789b1e8b2acac839d17                   1  credit_card   \n",
      "1  a9810da82917af2d9aefd1278f1dcfa0                   1  credit_card   \n",
      "2  25e8ea4e93396b6fa0d3dd708e76c1bd                   1  credit_card   \n",
      "3  ba78997921bbcdc1373bb41e913ab953                   1  credit_card   \n",
      "4  42fdf880ba16b47b59251dd489d4441a                   1  credit_card   \n",
      "\n",
      "   payment_installments  payment_value  \n",
      "0                     8          99.33  \n",
      "1                     1          24.39  \n",
      "2                     1          65.71  \n",
      "3                     8         107.78  \n",
      "4                     2         128.45  \n",
      "                           order_id                       customer_id  \\\n",
      "0  e481f51cbdc54678b7cc49136f2d6af7  9ef432eb6251297304e76186b10a928d   \n",
      "1  53cdb2fc8bc7dce0b6741e2150273451  b0830fb4747a6c6d20dea0b8c802d7ef   \n",
      "2  47770eb9100c2d0c44946d9cf07ec65d  41ce2a54c0b03bf3443c3d931a367089   \n",
      "3  949d5b44dbf5de918fe9c16f97b45f8a  f88197465ea7920adcdbec7375364d82   \n",
      "4  ad21c59c0840e6cb83a9ceb5573f8159  8ab97904e6daea8866dbdbc4fb7aad2c   \n",
      "\n",
      "  order_status order_purchase_timestamp    order_approved_at  \\\n",
      "0    delivered      2017-10-02 10:56:33  2017-10-02 11:07:15   \n",
      "1    delivered      2018-07-24 20:41:37  2018-07-26 03:24:27   \n",
      "2    delivered      2018-08-08 08:38:49  2018-08-08 08:55:23   \n",
      "3    delivered      2017-11-18 19:28:06  2017-11-18 19:45:59   \n",
      "4    delivered      2018-02-13 21:18:39  2018-02-13 22:20:29   \n",
      "\n",
      "  order_delivered_carrier_date order_delivered_customer_date  \\\n",
      "0          2017-10-04 19:55:00           2017-10-10 21:25:13   \n",
      "1          2018-07-26 14:31:00           2018-08-07 15:27:45   \n",
      "2          2018-08-08 13:50:00           2018-08-17 18:06:29   \n",
      "3          2017-11-22 13:39:59           2017-12-02 00:28:42   \n",
      "4          2018-02-14 19:46:34           2018-02-16 18:17:02   \n",
      "\n",
      "  order_estimated_delivery_date  \n",
      "0           2017-10-18 00:00:00  \n",
      "1           2018-08-13 00:00:00  \n",
      "2           2018-09-04 00:00:00  \n",
      "3           2017-12-15 00:00:00  \n",
      "4           2018-02-26 00:00:00  \n"
     ]
    }
   ],
   "source": [
    "#Cargamos los archivos que usaremos para el analizis\n",
    "\n",
    "df_customer = pd.read_csv('/Users/emilio/Documents/Proyecto Final/olist_customers_dataset.csv')\n",
    "df_order_items = pd.read_csv('/Users/emilio/Documents/Proyecto Final/olist_order_items_dataset.csv')\n",
    "df_products = pd.read_csv('/Users/emilio/Documents/Proyecto Final/olist_products_dataset.csv')\n",
    "df_payments = pd.read_csv('/Users/emilio/Documents/Proyecto Final/olist_order_payments_dataset.csv')\n",
    "df_orders = pd.read_csv('/Users/emilio/Documents/Proyecto Final/olist_orders_dataset.csv')\n",
    "\n",
    "print(df_customer.head())\n",
    "print(df_order_items.head())\n",
    "print(df_products.head())\n",
    "print(df_payments.head())\n",
    "print(df_orders.head())"
   ]
  },
  {
   "cell_type": "code",
   "execution_count": 3,
   "metadata": {},
   "outputs": [
    {
     "name": "stdout",
     "output_type": "stream",
     "text": [
      "<class 'pandas.core.frame.DataFrame'>\n",
      "RangeIndex: 99441 entries, 0 to 99440\n",
      "Data columns (total 5 columns):\n",
      " #   Column                    Non-Null Count  Dtype \n",
      "---  ------                    --------------  ----- \n",
      " 0   customer_id               99441 non-null  object\n",
      " 1   customer_unique_id        99441 non-null  object\n",
      " 2   customer_zip_code_prefix  99441 non-null  int64 \n",
      " 3   customer_city             99441 non-null  object\n",
      " 4   customer_state            99441 non-null  object\n",
      "dtypes: int64(1), object(4)\n",
      "memory usage: 3.8+ MB\n",
      "None\n",
      "<class 'pandas.core.frame.DataFrame'>\n",
      "RangeIndex: 112650 entries, 0 to 112649\n",
      "Data columns (total 7 columns):\n",
      " #   Column               Non-Null Count   Dtype  \n",
      "---  ------               --------------   -----  \n",
      " 0   order_id             112650 non-null  object \n",
      " 1   order_item_id        112650 non-null  int64  \n",
      " 2   product_id           112650 non-null  object \n",
      " 3   seller_id            112650 non-null  object \n",
      " 4   shipping_limit_date  112650 non-null  object \n",
      " 5   price                112650 non-null  float64\n",
      " 6   freight_value        112650 non-null  float64\n",
      "dtypes: float64(2), int64(1), object(4)\n",
      "memory usage: 6.0+ MB\n",
      "None\n",
      "<class 'pandas.core.frame.DataFrame'>\n",
      "RangeIndex: 32951 entries, 0 to 32950\n",
      "Data columns (total 9 columns):\n",
      " #   Column                      Non-Null Count  Dtype  \n",
      "---  ------                      --------------  -----  \n",
      " 0   product_id                  32951 non-null  object \n",
      " 1   product_category_name       32341 non-null  object \n",
      " 2   product_name_lenght         32341 non-null  float64\n",
      " 3   product_description_lenght  32341 non-null  float64\n",
      " 4   product_photos_qty          32341 non-null  float64\n",
      " 5   product_weight_g            32949 non-null  float64\n",
      " 6   product_length_cm           32949 non-null  float64\n",
      " 7   product_height_cm           32949 non-null  float64\n",
      " 8   product_width_cm            32949 non-null  float64\n",
      "dtypes: float64(7), object(2)\n",
      "memory usage: 2.3+ MB\n",
      "None\n",
      "<class 'pandas.core.frame.DataFrame'>\n",
      "RangeIndex: 103886 entries, 0 to 103885\n",
      "Data columns (total 5 columns):\n",
      " #   Column                Non-Null Count   Dtype  \n",
      "---  ------                --------------   -----  \n",
      " 0   order_id              103886 non-null  object \n",
      " 1   payment_sequential    103886 non-null  int64  \n",
      " 2   payment_type          103886 non-null  object \n",
      " 3   payment_installments  103886 non-null  int64  \n",
      " 4   payment_value         103886 non-null  float64\n",
      "dtypes: float64(1), int64(2), object(2)\n",
      "memory usage: 4.0+ MB\n",
      "None\n",
      "<class 'pandas.core.frame.DataFrame'>\n",
      "RangeIndex: 99441 entries, 0 to 99440\n",
      "Data columns (total 8 columns):\n",
      " #   Column                         Non-Null Count  Dtype \n",
      "---  ------                         --------------  ----- \n",
      " 0   order_id                       99441 non-null  object\n",
      " 1   customer_id                    99441 non-null  object\n",
      " 2   order_status                   99441 non-null  object\n",
      " 3   order_purchase_timestamp       99441 non-null  object\n",
      " 4   order_approved_at              99281 non-null  object\n",
      " 5   order_delivered_carrier_date   97658 non-null  object\n",
      " 6   order_delivered_customer_date  96476 non-null  object\n",
      " 7   order_estimated_delivery_date  99441 non-null  object\n",
      "dtypes: object(8)\n",
      "memory usage: 6.1+ MB\n",
      "None\n"
     ]
    }
   ],
   "source": [
    "# Estructura de los datos\n",
    "\n",
    "print(df_customer.info())\n",
    "print(df_order_items.info())\n",
    "print(df_products.info())\n",
    "print(df_payments.info())\n",
    "print(df_orders.info())"
   ]
  },
  {
   "cell_type": "code",
   "execution_count": 4,
   "metadata": {},
   "outputs": [
    {
     "name": "stdout",
     "output_type": "stream",
     "text": [
      "       customer_zip_code_prefix\n",
      "count              99441.000000\n",
      "mean               35137.474583\n",
      "std                29797.938996\n",
      "min                 1003.000000\n",
      "25%                11347.000000\n",
      "50%                24416.000000\n",
      "75%                58900.000000\n",
      "max                99990.000000\n",
      "       order_item_id          price  freight_value\n",
      "count  112650.000000  112650.000000  112650.000000\n",
      "mean        1.197834     120.653739      19.990320\n",
      "std         0.705124     183.633928      15.806405\n",
      "min         1.000000       0.850000       0.000000\n",
      "25%         1.000000      39.900000      13.080000\n",
      "50%         1.000000      74.990000      16.260000\n",
      "75%         1.000000     134.900000      21.150000\n",
      "max        21.000000    6735.000000     409.680000\n",
      "       product_name_lenght  product_description_lenght  product_photos_qty  \\\n",
      "count         32341.000000                32341.000000        32341.000000   \n",
      "mean             48.476949                  771.495285            2.188986   \n",
      "std              10.245741                  635.115225            1.736766   \n",
      "min               5.000000                    4.000000            1.000000   \n",
      "25%              42.000000                  339.000000            1.000000   \n",
      "50%              51.000000                  595.000000            1.000000   \n",
      "75%              57.000000                  972.000000            3.000000   \n",
      "max              76.000000                 3992.000000           20.000000   \n",
      "\n",
      "       product_weight_g  product_length_cm  product_height_cm  \\\n",
      "count      32949.000000       32949.000000       32949.000000   \n",
      "mean        2276.472488          30.815078          16.937661   \n",
      "std         4282.038731          16.914458          13.637554   \n",
      "min            0.000000           7.000000           2.000000   \n",
      "25%          300.000000          18.000000           8.000000   \n",
      "50%          700.000000          25.000000          13.000000   \n",
      "75%         1900.000000          38.000000          21.000000   \n",
      "max        40425.000000         105.000000         105.000000   \n",
      "\n",
      "       product_width_cm  \n",
      "count      32949.000000  \n",
      "mean          23.196728  \n",
      "std           12.079047  \n",
      "min            6.000000  \n",
      "25%           15.000000  \n",
      "50%           20.000000  \n",
      "75%           30.000000  \n",
      "max          118.000000  \n",
      "       payment_sequential  payment_installments  payment_value\n",
      "count       103886.000000         103886.000000  103886.000000\n",
      "mean             1.092679              2.853349     154.100380\n",
      "std              0.706584              2.687051     217.494064\n",
      "min              1.000000              0.000000       0.000000\n",
      "25%              1.000000              1.000000      56.790000\n",
      "50%              1.000000              1.000000     100.000000\n",
      "75%              1.000000              4.000000     171.837500\n",
      "max             29.000000             24.000000   13664.080000\n",
      "                                order_id                       customer_id  \\\n",
      "count                              99441                             99441   \n",
      "unique                             99441                             99441   \n",
      "top     66dea50a8b16d9b4dee7af250b4be1a5  edb027a75a1449115f6b43211ae02a24   \n",
      "freq                                   1                                 1   \n",
      "\n",
      "       order_status order_purchase_timestamp    order_approved_at  \\\n",
      "count         99441                    99441                99281   \n",
      "unique            8                    98875                90733   \n",
      "top       delivered      2018-03-31 15:08:21  2018-02-27 04:31:10   \n",
      "freq          96478                        3                    9   \n",
      "\n",
      "       order_delivered_carrier_date order_delivered_customer_date  \\\n",
      "count                         97658                         96476   \n",
      "unique                        81018                         95664   \n",
      "top             2018-05-09 15:48:00           2018-05-14 20:02:44   \n",
      "freq                             47                             3   \n",
      "\n",
      "       order_estimated_delivery_date  \n",
      "count                          99441  \n",
      "unique                           459  \n",
      "top              2017-12-20 00:00:00  \n",
      "freq                             522  \n"
     ]
    }
   ],
   "source": [
    "# Estadisticas descriptivas\n",
    "\n",
    "print(df_customer.describe())\n",
    "print(df_order_items.describe())\n",
    "print(df_products.describe())\n",
    "print(df_payments.describe())\n",
    "print(df_orders.describe())"
   ]
  },
  {
   "cell_type": "markdown",
   "metadata": {},
   "source": [
    "Transformación y Limpieza "
   ]
  },
  {
   "cell_type": "code",
   "execution_count": 5,
   "metadata": {},
   "outputs": [],
   "source": [
    "# Eliminaremos las columnas que no aportan valor\n",
    "df_customer.drop(columns=[\"customer_unique_id\"], inplace=True)\n",
    "df_orders.drop(columns=[\"order_approved_at\", \"order_delivered_carrier_date\"], inplace=True)\n",
    "df_products.drop(columns=[\"product_name_lenght\", \"product_description_lenght\", \"product_photos_qty\"], inplace=True)\n",
    "\n",
    "# Estas columnas se eliminan porque no aportan valor significativo al análisis, ya que son identificadores o datos redundantes."
   ]
  },
  {
   "cell_type": "markdown",
   "metadata": {},
   "source": [
    "Unificación de los DataFrames"
   ]
  },
  {
   "cell_type": "code",
   "execution_count": 10,
   "metadata": {},
   "outputs": [
    {
     "name": "stdout",
     "output_type": "stream",
     "text": [
      "                           order_id                       customer_id  \\\n",
      "0  e481f51cbdc54678b7cc49136f2d6af7  9ef432eb6251297304e76186b10a928d   \n",
      "1  e481f51cbdc54678b7cc49136f2d6af7  9ef432eb6251297304e76186b10a928d   \n",
      "2  e481f51cbdc54678b7cc49136f2d6af7  9ef432eb6251297304e76186b10a928d   \n",
      "3  53cdb2fc8bc7dce0b6741e2150273451  b0830fb4747a6c6d20dea0b8c802d7ef   \n",
      "4  47770eb9100c2d0c44946d9cf07ec65d  41ce2a54c0b03bf3443c3d931a367089   \n",
      "\n",
      "  order_status order_purchase_timestamp order_delivered_customer_date  \\\n",
      "0    delivered      2017-10-02 10:56:33           2017-10-10 21:25:13   \n",
      "1    delivered      2017-10-02 10:56:33           2017-10-10 21:25:13   \n",
      "2    delivered      2017-10-02 10:56:33           2017-10-10 21:25:13   \n",
      "3    delivered      2018-07-24 20:41:37           2018-08-07 15:27:45   \n",
      "4    delivered      2018-08-08 08:38:49           2018-08-17 18:06:29   \n",
      "\n",
      "  order_estimated_delivery_date  customer_zip_code_prefix customer_city  \\\n",
      "0           2017-10-18 00:00:00                      3149     sao paulo   \n",
      "1           2017-10-18 00:00:00                      3149     sao paulo   \n",
      "2           2017-10-18 00:00:00                      3149     sao paulo   \n",
      "3           2018-08-13 00:00:00                     47813     barreiras   \n",
      "4           2018-09-04 00:00:00                     75265    vianopolis   \n",
      "\n",
      "  customer_state  payment_sequential  ...                        product_id  \\\n",
      "0             SP                   1  ...  87285b34884572647811a353c7ac498a   \n",
      "1             SP                   3  ...  87285b34884572647811a353c7ac498a   \n",
      "2             SP                   2  ...  87285b34884572647811a353c7ac498a   \n",
      "3             BA                   1  ...  595fac2a385ac33a80bd5114aec74eb8   \n",
      "4             GO                   1  ...  aa4383b373c6aca5d8797843e5594415   \n",
      "\n",
      "                          seller_id  shipping_limit_date   price  \\\n",
      "0  3504c0cb71d7fa48d967e0e4c94d59d9  2017-10-06 11:07:15   29.99   \n",
      "1  3504c0cb71d7fa48d967e0e4c94d59d9  2017-10-06 11:07:15   29.99   \n",
      "2  3504c0cb71d7fa48d967e0e4c94d59d9  2017-10-06 11:07:15   29.99   \n",
      "3  289cdb325fb7e7f891c38608bf9e0962  2018-07-30 03:24:27  118.70   \n",
      "4  4869f7a5dfa277a7dca6462dcf3b52b2  2018-08-13 08:55:23  159.90   \n",
      "\n",
      "  freight_value  product_category_name product_weight_g  product_length_cm  \\\n",
      "0          8.72  utilidades_domesticas            500.0               19.0   \n",
      "1          8.72  utilidades_domesticas            500.0               19.0   \n",
      "2          8.72  utilidades_domesticas            500.0               19.0   \n",
      "3         22.76             perfumaria            400.0               19.0   \n",
      "4         19.22             automotivo            420.0               24.0   \n",
      "\n",
      "   product_height_cm product_width_cm  \n",
      "0                8.0             13.0  \n",
      "1                8.0             13.0  \n",
      "2                8.0             13.0  \n",
      "3               13.0             19.0  \n",
      "4               19.0             21.0  \n",
      "\n",
      "[5 rows x 24 columns]\n"
     ]
    }
   ],
   "source": [
    "# Unir ordenes con clientes\n",
    "df_merge = pd.merge(df_orders, df_customer, on=\"customer_id\", how=\"inner\")\n",
    "\n",
    "# Unir con pagos\n",
    "df_merge1 = pd.merge(df_merge, df_payments, on=\"order_id\", how=\"inner\")\n",
    "\n",
    "# Unir con productos y detalles de orden\n",
    "df_merge2 = pd.merge(df_merge1, df_order_items, on=\"order_id\", how=\"inner\")\n",
    "\n",
    "# Unir con información de productos\n",
    "df_merge3 = pd.merge(df_merge2, df_products, on=\"product_id\", how=\"inner\")\n",
    "\n",
    "print(df_merge3.head())"
   ]
  },
  {
   "cell_type": "code",
   "execution_count": 11,
   "metadata": {},
   "outputs": [
    {
     "name": "stdout",
     "output_type": "stream",
     "text": [
      "order_id                            0\n",
      "customer_id                         0\n",
      "order_status                        0\n",
      "order_purchase_timestamp            0\n",
      "order_delivered_customer_date    2567\n",
      "order_estimated_delivery_date       0\n",
      "customer_zip_code_prefix            0\n",
      "customer_city                       0\n",
      "customer_state                      0\n",
      "payment_sequential                  0\n",
      "payment_type                        0\n",
      "payment_installments                0\n",
      "payment_value                       0\n",
      "order_item_id                       0\n",
      "product_id                          0\n",
      "seller_id                           0\n",
      "shipping_limit_date                 0\n",
      "price                               0\n",
      "freight_value                       0\n",
      "product_category_name            1698\n",
      "product_weight_g                   20\n",
      "product_length_cm                  20\n",
      "product_height_cm                  20\n",
      "product_width_cm                   20\n",
      "dtype: int64\n"
     ]
    },
    {
     "name": "stderr",
     "output_type": "stream",
     "text": [
      "/var/folders/59/cmq4bv5j2cz8nmv_xs_d8vbc0000gn/T/ipykernel_5606/893031405.py:8: FutureWarning: A value is trying to be set on a copy of a DataFrame or Series through chained assignment using an inplace method.\n",
      "The behavior will change in pandas 3.0. This inplace method will never work because the intermediate object on which we are setting values always behaves as a copy.\n",
      "\n",
      "For example, when doing 'df[col].method(value, inplace=True)', try using 'df.method({col: value}, inplace=True)' or df[col] = df[col].method(value) instead, to perform the operation inplace on the original object.\n",
      "\n",
      "\n",
      "  df_merge3[\"price\"].fillna(df_merge3[\"price\"].mean(), inplace=True)\n"
     ]
    }
   ],
   "source": [
    "# No es necesario reemplazar valores nulos en 'price', ya que no tiene valores faltantes."
   ]
  },
  {
   "cell_type": "code",
   "execution_count": 12,
   "metadata": {},
   "outputs": [],
   "source": [
    "# Convertir columnas de fecha\n",
    "df_merge3[\"order_purchase_timestamp\"] = pd.to_datetime(df_merge3[\"order_purchase_timestamp\"])\n",
    "df_merge3[\"order_estimated_delivery_date\"] = pd.to_datetime(df_merge3[\"order_estimated_delivery_date\"])\n"
   ]
  },
  {
   "cell_type": "code",
   "execution_count": 14,
   "metadata": {},
   "outputs": [
    {
     "name": "stdout",
     "output_type": "stream",
     "text": [
      "<class 'pandas.core.frame.DataFrame'>\n",
      "RangeIndex: 117601 entries, 0 to 117600\n",
      "Data columns (total 24 columns):\n",
      " #   Column                         Non-Null Count   Dtype         \n",
      "---  ------                         --------------   -----         \n",
      " 0   order_id                       117601 non-null  object        \n",
      " 1   customer_id                    117601 non-null  object        \n",
      " 2   order_status                   117601 non-null  object        \n",
      " 3   order_purchase_timestamp       117601 non-null  datetime64[ns]\n",
      " 4   order_delivered_customer_date  117601 non-null  object        \n",
      " 5   order_estimated_delivery_date  117601 non-null  datetime64[ns]\n",
      " 6   customer_zip_code_prefix       117601 non-null  int64         \n",
      " 7   customer_city                  117601 non-null  object        \n",
      " 8   customer_state                 117601 non-null  object        \n",
      " 9   payment_sequential             117601 non-null  int64         \n",
      " 10  payment_type                   117601 non-null  object        \n",
      " 11  payment_installments           117601 non-null  int64         \n",
      " 12  payment_value                  117601 non-null  float64       \n",
      " 13  order_item_id                  117601 non-null  int64         \n",
      " 14  product_id                     117601 non-null  object        \n",
      " 15  seller_id                      117601 non-null  object        \n",
      " 16  shipping_limit_date            117601 non-null  object        \n",
      " 17  price                          117601 non-null  float64       \n",
      " 18  freight_value                  117601 non-null  float64       \n",
      " 19  product_category_name          115903 non-null  object        \n",
      " 20  product_weight_g               117581 non-null  float64       \n",
      " 21  product_length_cm              117581 non-null  float64       \n",
      " 22  product_height_cm              117581 non-null  float64       \n",
      " 23  product_width_cm               117581 non-null  float64       \n",
      "dtypes: datetime64[ns](2), float64(7), int64(4), object(11)\n",
      "memory usage: 21.5+ MB\n",
      "None\n"
     ]
    }
   ],
   "source": [
    "# Eliminar duplicados\n",
    "df_merge3.drop_duplicates(inplace=True)\n",
    "\n",
    "print(df_merge3.info())\n",
    "# Estas columnas se eliminan porque no aportan valor significativo al análisis, ya que son identificadores o datos redundantes."
   ]
  },
  {
   "cell_type": "markdown",
   "metadata": {},
   "source": [
    "Analisis descriptivo"
   ]
  },
  {
   "cell_type": "code",
   "execution_count": 16,
   "metadata": {},
   "outputs": [
    {
     "name": "stdout",
     "output_type": "stream",
     "text": [
      "            order_purchase_timestamp  order_estimated_delivery_date  \\\n",
      "count                         117601                         117601   \n",
      "mean   2017-12-30 16:19:35.878368256  2018-01-23 12:55:57.155126528   \n",
      "min              2016-09-04 21:15:19            2016-10-20 00:00:00   \n",
      "25%              2017-09-11 21:42:39            2017-10-03 00:00:00   \n",
      "50%              2018-01-18 13:37:27            2018-02-14 00:00:00   \n",
      "75%              2018-05-03 22:43:17            2018-05-25 00:00:00   \n",
      "max              2018-09-03 09:06:57            2018-10-25 00:00:00   \n",
      "std                              NaN                            NaN   \n",
      "\n",
      "       customer_zip_code_prefix  payment_sequential  payment_installments  \\\n",
      "count             117601.000000       117601.000000         117601.000000   \n",
      "mean               35051.793097            1.093528              2.939482   \n",
      "min                 1003.000000            1.000000              0.000000   \n",
      "25%                11310.000000            1.000000              1.000000   \n",
      "50%                24315.000000            1.000000              2.000000   \n",
      "75%                58600.000000            1.000000              4.000000   \n",
      "max                99990.000000           29.000000             24.000000   \n",
      "std                29820.588877            0.726692              2.774223   \n",
      "\n",
      "       payment_value  order_item_id          price  freight_value  \\\n",
      "count  117601.000000  117601.000000  117601.000000  117601.000000   \n",
      "mean      172.686752       1.195900     120.824783      20.045990   \n",
      "min         0.000000       1.000000       0.850000       0.000000   \n",
      "25%        60.870000       1.000000      39.900000      13.080000   \n",
      "50%       108.210000       1.000000      74.900000      16.290000   \n",
      "75%       189.260000       1.000000     134.900000      21.190000   \n",
      "max     13664.080000      21.000000    6735.000000     409.680000   \n",
      "std       267.592290       0.697706     184.479323      15.861315   \n",
      "\n",
      "       product_weight_g  product_length_cm  product_height_cm  \\\n",
      "count     117581.000000      117581.000000      117581.000000   \n",
      "mean        2114.309497          30.257235          16.630306   \n",
      "min            0.000000           7.000000           2.000000   \n",
      "25%          300.000000          18.000000           8.000000   \n",
      "50%          700.000000          25.000000          13.000000   \n",
      "75%         1800.000000          38.000000          20.000000   \n",
      "max        40425.000000         105.000000         105.000000   \n",
      "std         3788.798201          16.190920          13.458952   \n",
      "\n",
      "       product_width_cm  \n",
      "count     117581.000000  \n",
      "mean          23.068574  \n",
      "min            6.000000  \n",
      "25%           15.000000  \n",
      "50%           20.000000  \n",
      "75%           30.000000  \n",
      "max          118.000000  \n",
      "std           11.748468  \n"
     ]
    }
   ],
   "source": [
    "# Estadísticas de todas las variables numéricas\n",
    "print(df_merge3.describe())\n"
   ]
  },
  {
   "cell_type": "code",
   "execution_count": 17,
   "metadata": {},
   "outputs": [
    {
     "name": "stdout",
     "output_type": "stream",
     "text": [
      "order_id                         98665\n",
      "customer_id                      98665\n",
      "order_status                         7\n",
      "order_purchase_timestamp         98111\n",
      "order_delivered_customer_date    95664\n",
      "order_estimated_delivery_date      449\n",
      "customer_zip_code_prefix         14976\n",
      "customer_city                     4110\n",
      "customer_state                      27\n",
      "payment_sequential                  29\n",
      "payment_type                         4\n",
      "payment_installments                24\n",
      "payment_value                    28938\n",
      "order_item_id                       21\n",
      "product_id                       32951\n",
      "seller_id                         3095\n",
      "shipping_limit_date              93317\n",
      "price                             5968\n",
      "freight_value                     6999\n",
      "product_category_name               73\n",
      "product_weight_g                  2204\n",
      "product_length_cm                   99\n",
      "product_height_cm                  102\n",
      "product_width_cm                    95\n",
      "dtype: int64\n"
     ]
    }
   ],
   "source": [
    "# Conteo de valores únicos por columna\n",
    "print(df_merge3.nunique())"
   ]
  },
  {
   "cell_type": "code",
   "execution_count": 18,
   "metadata": {},
   "outputs": [
    {
     "name": "stdout",
     "output_type": "stream",
     "text": [
      "customer_id\n",
      "270c23a11d024a44c896d1894b261a83    63\n",
      "13aa59158da63ba0e93ec6ac2c07aacb    38\n",
      "9af2372a1e49340278e7c1ef8d749f34    29\n",
      "92cd3ec6e2d643d4ebd0e3d6238f69e2    26\n",
      "63b964e79dee32a3587651701a2b8dbf    24\n",
      "                                    ..\n",
      "6f2cf56878f7f82151b0ad02590192c0     1\n",
      "3803547f820b1e10b7ad9c7985f06753     1\n",
      "a046c690e0564ffde0ce611b5eee2c30     1\n",
      "ad312389a098ceff46ce92c4595c06d0     1\n",
      "f00bb12620b7b232233cace1b229db18     1\n",
      "Name: count, Length: 98665, dtype: int64\n"
     ]
    }
   ],
   "source": [
    "# Distribución de la cantidad de pedidos por cliente\n",
    "print(df_merge3[\"customer_id\"].value_counts())"
   ]
  },
  {
   "cell_type": "code",
   "execution_count": 20,
   "metadata": {},
   "outputs": [
    {
     "name": "stdout",
     "output_type": "stream",
     "text": [
      "order_status\n",
      "delivered      115035\n",
      "shipped          1244\n",
      "canceled          566\n",
      "processing        375\n",
      "invoiced          371\n",
      "unavailable         7\n",
      "approved            3\n",
      "Name: count, dtype: int64\n"
     ]
    }
   ],
   "source": [
    "# Ver la cantidad de órdenes por estado\n",
    "print(df_merge3[\"order_status\"].value_counts())"
   ]
  },
  {
   "cell_type": "code",
   "execution_count": 21,
   "metadata": {},
   "outputs": [
    {
     "name": "stdout",
     "output_type": "stream",
     "text": [
      "product_category_name\n",
      "cama_mesa_banho                                  11823\n",
      "beleza_saude                                      9972\n",
      "esporte_lazer                                     8945\n",
      "moveis_decoracao                                  8744\n",
      "informatica_acessorios                            8082\n",
      "                                                 ...  \n",
      "portateis_cozinha_e_preparadores_de_alimentos       15\n",
      "cds_dvds_musicais                                   14\n",
      "pc_gamer                                            10\n",
      "fashion_roupa_infanto_juvenil                        8\n",
      "seguros_e_servicos                                   2\n",
      "Name: count, Length: 73, dtype: int64\n"
     ]
    }
   ],
   "source": [
    "# Ver las categorías de productos más vendidos\n",
    "print(df_merge3[\"product_category_name\"].value_counts())"
   ]
  },
  {
   "cell_type": "markdown",
   "metadata": {},
   "source": [
    "Analisis Estadistico"
   ]
  },
  {
   "cell_type": "code",
   "execution_count": 23,
   "metadata": {},
   "outputs": [
    {
     "name": "stdout",
     "output_type": "stream",
     "text": [
      "Media del precio: 120.82478329265908\n",
      "Desviación estándar del precio: 184.47853835486535\n"
     ]
    }
   ],
   "source": [
    "media = np.mean(df_merge3[\"price\"])\n",
    "desviacion = np.std(df_merge3[\"price\"])\n",
    "\n",
    "print(\"Media del precio:\", media)\n",
    "print(\"Desviación estándar del precio:\", desviacion)"
   ]
  },
  {
   "cell_type": "code",
   "execution_count": 26,
   "metadata": {},
   "outputs": [],
   "source": [
    "import pandas as pd\n",
    "import numpy as np\n",
    "import matplotlib.pyplot as plt"
   ]
  },
  {
   "cell_type": "code",
   "execution_count": null,
   "metadata": {},
   "outputs": [
    {
     "data": {
      "image/png": "[encoded data removed]",
      "text/plain": [
       "<Figure size 1000x500 with 1 Axes>"
      ]
     },
     "metadata": {},
     "output_type": "display_data"
    }
   ],
   "source": [
    "# Histograma de precios de los productos\n",
    "\n",
    "plt.figure(figsize=(10,5))\n",
    "plt.hist(df_merge3[\"price\"], bins=50, color=\"blue\", alpha=0.7)\n",
    "plt.xlabel(\"Precio\")\n",
    "plt.ylabel(\"Frecuencia\")\n",
    "plt.title(\"Distribución de Precios de Productos\")\n",
    "plt.show()"
   ]
  },
  {
   "cell_type": "code",
   "execution_count": 28,
   "metadata": {},
   "outputs": [
    {
     "data": {
      "image/png": "[encoded data removed]",
      "text/plain": [
       "<Figure size 640x480 with 1 Axes>"
      ]
     },
     "metadata": {},
     "output_type": "display_data"
    }
   ],
   "source": [
    "# Analisis de pago\n",
    "\n",
    "df_merge3[\"payment_type\"].value_counts().plot(kind=\"bar\", color=\"green\")\n",
    "plt.xlabel(\"Método de Pago\")\n",
    "plt.ylabel(\"Cantidad de Transacciones\")\n",
    "plt.title(\"Distribución de Métodos de Pago\")\n",
    "plt.show()"
   ]
  },
  {
   "cell_type": "code",
   "execution_count": 29,
   "metadata": {},
   "outputs": [],
   "source": [
    "df_merge3.to_excel(\"datos_finales.xlsx\", index=False)\n"
   ]
  }
 ],
 "metadata": {
  "kernelspec": {
   "display_name": "Python 3",
   "language": "python",
   "name": "python3"
  },
  "language_info": {
   "codemirror_mode": {
    "name": "ipython",
    "version": 3
   },
   "file_extension": ".py",
   "mimetype": "text/x-python",
   "name": "python",
   "nbconvert_exporter": "python",
   "pygments_lexer": "ipython3",
   "version": "3.11.9"
  }
 },
 "nbformat": 4,
 "nbformat_minor": 2
}
